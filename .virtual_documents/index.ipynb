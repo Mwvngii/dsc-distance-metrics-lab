


import numpy as np

# Complete this function! 
def distance(a, b, c=2, verbose=True):
    a = np.array(a)
    b = np.array(b)
    
    dist = np.sum(np.abs(a-b)**c)**(1/c)
    if verbose:
        if c == 1:
            print("Manhattan Distance")
        elif c == 2:
            print("Euclidean Distance")
        else:
            print(f"Minkowski Distance with norm of {c}")
     
    return dist


test_point_1 = (1, 2)
test_point_2 = (4, 6)
print(distance(test_point_1, test_point_2)) # Expected Output: 5.0
print(distance(test_point_1, test_point_2, c=1)) # Expected Output: 7.0
print(distance(test_point_1, test_point_2, c=3)) # Expected Output: 4.497941445275415





point1 = (-2, -3.4, 4, 15, 7)
point2 = (3, -1.2, -2, -1, 7)

print(distance(point1, point2))
# Expected Output: 17.939899665271266





point1 = [0, 0, 0, 7, 16, 2, 0, 1, 2, 1]
point2 = [1, -1, 5, 7, 14, 3, -2, 3, 3, 6]

print(distance(point1, point2, c=1))
# Expected Output: 20.0





point1 = (-2, 7, 3.4)
point2 = (3, 4, 1.5)

print(distance(point1, point2, c=3.5))
# Expected Output: 5.268789659188307



